{
 "cells": [
  {
   "cell_type": "code",
   "execution_count": 1,
   "metadata": {
    "collapsed": true
   },
   "outputs": [],
   "source": [
    "import pandas as pd\n",
    "import numpy as np\n",
    "from datetime import datetime, date"
   ]
  },
  {
   "cell_type": "code",
   "execution_count": 2,
   "metadata": {
    "collapsed": false
   },
   "outputs": [],
   "source": [
    "df = pd.read_excel(\"TestData1.xlsx\")"
   ]
  },
  {
   "cell_type": "code",
   "execution_count": 3,
   "metadata": {
    "collapsed": false
   },
   "outputs": [
    {
     "data": {
      "text/html": [
       "<div>\n",
       "<table border=\"1\" class=\"dataframe\">\n",
       "  <thead>\n",
       "    <tr style=\"text-align: right;\">\n",
       "      <th></th>\n",
       "      <th>Contract</th>\n",
       "      <th>WP_#</th>\n",
       "      <th>Emp_Notes_ID</th>\n",
       "      <th>Band</th>\n",
       "      <th>Band_Wt</th>\n",
       "      <th>Status</th>\n",
       "      <th>Confidence</th>\n",
       "      <th>NCE_Start_Date</th>\n",
       "      <th>NCE_End_Date</th>\n",
       "      <th>Transition_Start_Date</th>\n",
       "      <th>Transition_End_Date</th>\n",
       "      <th>Billing_Start_Date</th>\n",
       "      <th>Billing_End_Date</th>\n",
       "      <th>Premium</th>\n",
       "    </tr>\n",
       "  </thead>\n",
       "  <tbody>\n",
       "    <tr>\n",
       "      <th>0</th>\n",
       "      <td>B04331</td>\n",
       "      <td>T&amp;M</td>\n",
       "      <td>Praveen K Haarkara/India/IBM</td>\n",
       "      <td>7B</td>\n",
       "      <td>7.5</td>\n",
       "      <td>Inactive</td>\n",
       "      <td>NaN</td>\n",
       "      <td>NaN</td>\n",
       "      <td>NaN</td>\n",
       "      <td>NaN</td>\n",
       "      <td>NaN</td>\n",
       "      <td>2016-12-03</td>\n",
       "      <td>2017-03-15</td>\n",
       "      <td>Standard</td>\n",
       "    </tr>\n",
       "    <tr>\n",
       "      <th>1</th>\n",
       "      <td>B04331</td>\n",
       "      <td>T&amp;M</td>\n",
       "      <td>Srikanth Merugu3/India/IBM</td>\n",
       "      <td>6B</td>\n",
       "      <td>6.5</td>\n",
       "      <td>Inactive</td>\n",
       "      <td>NaN</td>\n",
       "      <td>NaN</td>\n",
       "      <td>NaN</td>\n",
       "      <td>NaN</td>\n",
       "      <td>NaN</td>\n",
       "      <td>2016-12-05</td>\n",
       "      <td>2017-03-15</td>\n",
       "      <td>Standard</td>\n",
       "    </tr>\n",
       "    <tr>\n",
       "      <th>2</th>\n",
       "      <td>B04349</td>\n",
       "      <td>T&amp;M</td>\n",
       "      <td>Abhijit Murade/India/IBM</td>\n",
       "      <td>7A</td>\n",
       "      <td>7.0</td>\n",
       "      <td>Active</td>\n",
       "      <td>NaN</td>\n",
       "      <td>NaN</td>\n",
       "      <td>NaN</td>\n",
       "      <td>NaN</td>\n",
       "      <td>NaN</td>\n",
       "      <td>2016-12-03</td>\n",
       "      <td>NaT</td>\n",
       "      <td>Standard</td>\n",
       "    </tr>\n",
       "    <tr>\n",
       "      <th>3</th>\n",
       "      <td>B04358</td>\n",
       "      <td>T&amp;M</td>\n",
       "      <td>Avinash Singh10/India/IBM</td>\n",
       "      <td>6B</td>\n",
       "      <td>6.5</td>\n",
       "      <td>Active</td>\n",
       "      <td>Identified</td>\n",
       "      <td>2017-03-27 00:00:00</td>\n",
       "      <td>2017-04-14 00:00:00</td>\n",
       "      <td>NaN</td>\n",
       "      <td>NaN</td>\n",
       "      <td>2017-04-17</td>\n",
       "      <td>NaT</td>\n",
       "      <td>Standard</td>\n",
       "    </tr>\n",
       "    <tr>\n",
       "      <th>4</th>\n",
       "      <td>B04358</td>\n",
       "      <td>T&amp;M</td>\n",
       "      <td>Teradata 8</td>\n",
       "      <td>6B</td>\n",
       "      <td>6.5</td>\n",
       "      <td>Active</td>\n",
       "      <td>Medium</td>\n",
       "      <td>2017-04-03 00:00:00</td>\n",
       "      <td>2017-04-14 00:00:00</td>\n",
       "      <td>NaN</td>\n",
       "      <td>NaN</td>\n",
       "      <td>2017-04-17</td>\n",
       "      <td>NaT</td>\n",
       "      <td>Standard</td>\n",
       "    </tr>\n",
       "  </tbody>\n",
       "</table>\n",
       "</div>"
      ],
      "text/plain": [
       "  Contract WP_#                  Emp_Notes_ID Band  Band_Wt    Status  \\\n",
       "0   B04331  T&M  Praveen K Haarkara/India/IBM   7B      7.5  Inactive   \n",
       "1   B04331  T&M    Srikanth Merugu3/India/IBM   6B      6.5  Inactive   \n",
       "2   B04349  T&M      Abhijit Murade/India/IBM   7A      7.0    Active   \n",
       "3   B04358  T&M     Avinash Singh10/India/IBM   6B      6.5    Active   \n",
       "4   B04358  T&M                    Teradata 8   6B      6.5    Active   \n",
       "\n",
       "   Confidence       NCE_Start_Date         NCE_End_Date Transition_Start_Date  \\\n",
       "0         NaN                  NaN                  NaN                   NaN   \n",
       "1         NaN                  NaN                  NaN                   NaN   \n",
       "2         NaN                  NaN                  NaN                   NaN   \n",
       "3  Identified  2017-03-27 00:00:00  2017-04-14 00:00:00                   NaN   \n",
       "4      Medium  2017-04-03 00:00:00  2017-04-14 00:00:00                   NaN   \n",
       "\n",
       "  Transition_End_Date Billing_Start_Date Billing_End_Date   Premium  \n",
       "0                 NaN         2016-12-03       2017-03-15  Standard  \n",
       "1                 NaN         2016-12-05       2017-03-15  Standard  \n",
       "2                 NaN         2016-12-03              NaT  Standard  \n",
       "3                 NaN         2017-04-17              NaT  Standard  \n",
       "4                 NaN         2017-04-17              NaT  Standard  "
      ]
     },
     "execution_count": 3,
     "metadata": {},
     "output_type": "execute_result"
    }
   ],
   "source": [
    "df.head()"
   ]
  },
  {
   "cell_type": "code",
   "execution_count": 4,
   "metadata": {
    "collapsed": false
   },
   "outputs": [
    {
     "data": {
      "text/html": [
       "<div>\n",
       "<table border=\"1\" class=\"dataframe\">\n",
       "  <thead>\n",
       "    <tr style=\"text-align: right;\">\n",
       "      <th></th>\n",
       "      <th>Band_Wt</th>\n",
       "    </tr>\n",
       "  </thead>\n",
       "  <tbody>\n",
       "    <tr>\n",
       "      <th>count</th>\n",
       "      <td>25.00000</td>\n",
       "    </tr>\n",
       "    <tr>\n",
       "      <th>mean</th>\n",
       "      <td>6.74000</td>\n",
       "    </tr>\n",
       "    <tr>\n",
       "      <th>std</th>\n",
       "      <td>0.49202</td>\n",
       "    </tr>\n",
       "    <tr>\n",
       "      <th>min</th>\n",
       "      <td>6.00000</td>\n",
       "    </tr>\n",
       "    <tr>\n",
       "      <th>25%</th>\n",
       "      <td>6.50000</td>\n",
       "    </tr>\n",
       "    <tr>\n",
       "      <th>50%</th>\n",
       "      <td>6.50000</td>\n",
       "    </tr>\n",
       "    <tr>\n",
       "      <th>75%</th>\n",
       "      <td>7.00000</td>\n",
       "    </tr>\n",
       "    <tr>\n",
       "      <th>max</th>\n",
       "      <td>7.50000</td>\n",
       "    </tr>\n",
       "  </tbody>\n",
       "</table>\n",
       "</div>"
      ],
      "text/plain": [
       "        Band_Wt\n",
       "count  25.00000\n",
       "mean    6.74000\n",
       "std     0.49202\n",
       "min     6.00000\n",
       "25%     6.50000\n",
       "50%     6.50000\n",
       "75%     7.00000\n",
       "max     7.50000"
      ]
     },
     "execution_count": 4,
     "metadata": {},
     "output_type": "execute_result"
    }
   ],
   "source": [
    "df.describe()"
   ]
  },
  {
   "cell_type": "code",
   "execution_count": 5,
   "metadata": {
    "collapsed": false
   },
   "outputs": [
    {
     "data": {
      "text/plain": [
       "(25, 14)"
      ]
     },
     "execution_count": 5,
     "metadata": {},
     "output_type": "execute_result"
    }
   ],
   "source": [
    "#Let's understand the dimensions of the data in the dataframe\n",
    "df.shape"
   ]
  },
  {
   "cell_type": "code",
   "execution_count": 6,
   "metadata": {
    "collapsed": false
   },
   "outputs": [
    {
     "data": {
      "text/plain": [
       "25"
      ]
     },
     "execution_count": 6,
     "metadata": {},
     "output_type": "execute_result"
    }
   ],
   "source": [
    "len(df.index)"
   ]
  },
  {
   "cell_type": "code",
   "execution_count": 7,
   "metadata": {
    "collapsed": false
   },
   "outputs": [
    {
     "data": {
      "text/plain": [
       "['Contract',\n",
       " 'WP_#',\n",
       " 'Emp_Notes_ID',\n",
       " 'Band',\n",
       " 'Band_Wt',\n",
       " 'Status',\n",
       " 'Confidence',\n",
       " 'NCE_Start_Date',\n",
       " 'NCE_End_Date',\n",
       " 'Transition_Start_Date',\n",
       " 'Transition_End_Date',\n",
       " 'Billing_Start_Date',\n",
       " 'Billing_End_Date',\n",
       " 'Premium']"
      ]
     },
     "execution_count": 7,
     "metadata": {},
     "output_type": "execute_result"
    }
   ],
   "source": [
    "list(df.columns.values)"
   ]
  },
  {
   "cell_type": "code",
   "execution_count": 8,
   "metadata": {
    "collapsed": false
   },
   "outputs": [
    {
     "data": {
      "text/html": [
       "<div>\n",
       "<table border=\"1\" class=\"dataframe\">\n",
       "  <thead>\n",
       "    <tr style=\"text-align: right;\">\n",
       "      <th></th>\n",
       "      <th>Contract</th>\n",
       "      <th>WP_#</th>\n",
       "      <th>Emp_Notes_ID</th>\n",
       "      <th>Band</th>\n",
       "      <th>Band_Wt</th>\n",
       "      <th>Status</th>\n",
       "      <th>Confidence</th>\n",
       "      <th>NCE_Start_Date</th>\n",
       "      <th>NCE_End_Date</th>\n",
       "      <th>Transition_Start_Date</th>\n",
       "      <th>Transition_End_Date</th>\n",
       "      <th>Billing_Start_Date</th>\n",
       "      <th>Billing_End_Date</th>\n",
       "      <th>Premium</th>\n",
       "    </tr>\n",
       "  </thead>\n",
       "  <tbody>\n",
       "    <tr>\n",
       "      <th>2</th>\n",
       "      <td>B04349</td>\n",
       "      <td>T&amp;M</td>\n",
       "      <td>Abhijit Murade/India/IBM</td>\n",
       "      <td>7A</td>\n",
       "      <td>7.0</td>\n",
       "      <td>Active</td>\n",
       "      <td>NaN</td>\n",
       "      <td>NaN</td>\n",
       "      <td>NaN</td>\n",
       "      <td>NaN</td>\n",
       "      <td>NaN</td>\n",
       "      <td>2016-12-03</td>\n",
       "      <td>NaT</td>\n",
       "      <td>Standard</td>\n",
       "    </tr>\n",
       "    <tr>\n",
       "      <th>13</th>\n",
       "      <td>B04358</td>\n",
       "      <td>T&amp;M</td>\n",
       "      <td>Tushar Ab Initio TBD 1</td>\n",
       "      <td>7A</td>\n",
       "      <td>7.0</td>\n",
       "      <td>Forecast</td>\n",
       "      <td>Low</td>\n",
       "      <td>NaN</td>\n",
       "      <td>NaN</td>\n",
       "      <td>NaN</td>\n",
       "      <td>NaN</td>\n",
       "      <td>2017-04-15</td>\n",
       "      <td>2017-12-31</td>\n",
       "      <td>Premium</td>\n",
       "    </tr>\n",
       "    <tr>\n",
       "      <th>18</th>\n",
       "      <td>B04358</td>\n",
       "      <td>T&amp;M</td>\n",
       "      <td>Prashant Garg12/India/IBM</td>\n",
       "      <td>7A</td>\n",
       "      <td>7.0</td>\n",
       "      <td>Forecast</td>\n",
       "      <td>Identified</td>\n",
       "      <td>NaN</td>\n",
       "      <td>NaN</td>\n",
       "      <td>NaN</td>\n",
       "      <td>NaN</td>\n",
       "      <td>2017-05-02</td>\n",
       "      <td>NaT</td>\n",
       "      <td>Premium</td>\n",
       "    </tr>\n",
       "  </tbody>\n",
       "</table>\n",
       "</div>"
      ],
      "text/plain": [
       "   Contract WP_#               Emp_Notes_ID Band  Band_Wt    Status  \\\n",
       "2    B04349  T&M   Abhijit Murade/India/IBM   7A      7.0    Active   \n",
       "13   B04358  T&M     Tushar Ab Initio TBD 1   7A      7.0  Forecast   \n",
       "18   B04358  T&M  Prashant Garg12/India/IBM   7A      7.0  Forecast   \n",
       "\n",
       "    Confidence NCE_Start_Date NCE_End_Date Transition_Start_Date  \\\n",
       "2          NaN            NaN          NaN                   NaN   \n",
       "13         Low            NaN          NaN                   NaN   \n",
       "18  Identified            NaN          NaN                   NaN   \n",
       "\n",
       "   Transition_End_Date Billing_Start_Date Billing_End_Date   Premium  \n",
       "2                  NaN         2016-12-03              NaT  Standard  \n",
       "13                 NaN         2017-04-15       2017-12-31   Premium  \n",
       "18                 NaN         2017-05-02              NaT   Premium  "
      ]
     },
     "execution_count": 8,
     "metadata": {},
     "output_type": "execute_result"
    }
   ],
   "source": [
    "df[df.Band == '7A']"
   ]
  },
  {
   "cell_type": "code",
   "execution_count": 9,
   "metadata": {
    "collapsed": false
   },
   "outputs": [
    {
     "data": {
      "text/html": [
       "<div>\n",
       "<table border=\"1\" class=\"dataframe\">\n",
       "  <thead>\n",
       "    <tr style=\"text-align: right;\">\n",
       "      <th></th>\n",
       "      <th>Contract</th>\n",
       "      <th>WP_#</th>\n",
       "      <th>Emp_Notes_ID</th>\n",
       "      <th>Band</th>\n",
       "      <th>Band_Wt</th>\n",
       "      <th>Status</th>\n",
       "      <th>Confidence</th>\n",
       "      <th>NCE_Start_Date</th>\n",
       "      <th>NCE_End_Date</th>\n",
       "      <th>Transition_Start_Date</th>\n",
       "      <th>Transition_End_Date</th>\n",
       "      <th>Billing_Start_Date</th>\n",
       "      <th>Billing_End_Date</th>\n",
       "      <th>Premium</th>\n",
       "    </tr>\n",
       "  </thead>\n",
       "  <tbody>\n",
       "  </tbody>\n",
       "</table>\n",
       "</div>"
      ],
      "text/plain": [
       "Empty DataFrame\n",
       "Columns: [Contract, WP_#, Emp_Notes_ID, Band, Band_Wt, Status, Confidence, NCE_Start_Date, NCE_End_Date, Transition_Start_Date, Transition_End_Date, Billing_Start_Date, Billing_End_Date, Premium]\n",
       "Index: []"
      ]
     },
     "execution_count": 9,
     "metadata": {},
     "output_type": "execute_result"
    }
   ],
   "source": [
    "df[df.duplicated(['Emp_Notes_ID','Status'],keep=False)]"
   ]
  },
  {
   "cell_type": "code",
   "execution_count": 10,
   "metadata": {
    "collapsed": false
   },
   "outputs": [
    {
     "data": {
      "text/html": [
       "<div>\n",
       "<table border=\"1\" class=\"dataframe\">\n",
       "  <thead>\n",
       "    <tr style=\"text-align: right;\">\n",
       "      <th></th>\n",
       "      <th>Contract</th>\n",
       "      <th>WP_#</th>\n",
       "      <th>Emp_Notes_ID</th>\n",
       "      <th>Band</th>\n",
       "      <th>Band_Wt</th>\n",
       "      <th>Status</th>\n",
       "      <th>Confidence</th>\n",
       "      <th>NCE_Start_Date</th>\n",
       "      <th>NCE_End_Date</th>\n",
       "      <th>Transition_Start_Date</th>\n",
       "      <th>Transition_End_Date</th>\n",
       "      <th>Billing_Start_Date</th>\n",
       "      <th>Billing_End_Date</th>\n",
       "      <th>Premium</th>\n",
       "    </tr>\n",
       "  </thead>\n",
       "  <tbody>\n",
       "  </tbody>\n",
       "</table>\n",
       "</div>"
      ],
      "text/plain": [
       "Empty DataFrame\n",
       "Columns: [Contract, WP_#, Emp_Notes_ID, Band, Band_Wt, Status, Confidence, NCE_Start_Date, NCE_End_Date, Transition_Start_Date, Transition_End_Date, Billing_Start_Date, Billing_End_Date, Premium]\n",
       "Index: []"
      ]
     },
     "execution_count": 10,
     "metadata": {},
     "output_type": "execute_result"
    }
   ],
   "source": [
    "now =  datetime.now()\n",
    "df[((df['Billing_End_Date'].isnull()) | (df['Billing_End_Date'] > now)) & (df['Status'] == 'Inactive')]"
   ]
  },
  {
   "cell_type": "code",
   "execution_count": 11,
   "metadata": {
    "collapsed": true
   },
   "outputs": [],
   "source": [
    "df['Count_on'] = 1\n",
    "df['Prem_pct'] = (df.groupby('Premium')['Count_on'].transform('sum') / df.Count_on.sum())*100"
   ]
  },
  {
   "cell_type": "code",
   "execution_count": 12,
   "metadata": {
    "collapsed": false
   },
   "outputs": [],
   "source": [
    "def getDaysForMonth(startDate, endDate, forMonth):\n",
    "    thisYr = 2017\n",
    "    first_date = pd.Series({1:date(thisYr,1,1), 2:date(thisYr,2,1), 3:date(thisYr,3,1), 4:date(thisYr,4,1), 5:date(thisYr,5,1), 6:date(thisYr,6,1), 7:date(thisYr,7,1), 8:date(thisYr,8,1), 9:date(thisYr,9,1), 10:date(thisYr,10,1), 11:date(thisYr,11,1), 12:date(thisYr,12,1)})\n",
    "    last_date = pd.Series({1:date(thisYr,1,31), 2:date(thisYr,2,28), 3:date(thisYr,3,31), 4:date(thisYr,4,30), 5:date(thisYr,5,31), 6:date(thisYr,6,30), 7:date(thisYr,7,31), 8:date(thisYr,8,31), 9:date(thisYr,9,30), 10:date(thisYr,10,31), 11:date(thisYr,11,30), 12:date(thisYr,12,31)})\n",
    "    #if pd.isnull(startDate):\n",
    "    #    return 0\n",
    "    if startDate == date.min:\n",
    "        return 0\n",
    "    elif startDate > last_date[forMonth]:\n",
    "        return 0\n",
    "    elif startDate < first_date[forMonth]:\n",
    "        startDate = first_date[forMonth]\n",
    "    \n",
    "    #if pd.isnull(endDate):\n",
    "    #    endDate = date(thisYr,12,31)\n",
    "    if endDate == date.max:\n",
    "        endDate = last_date[forMonth]\n",
    "    elif endDate < first_date[forMonth]:\n",
    "        return 0\n",
    "    elif endDate > last_date[forMonth]:\n",
    "        endDate = last_date[forMonth]    \n",
    "    \n",
    "    delta = np.busday_count(startDate, endDate)\n",
    "    return delta\n",
    "\n",
    "def getRevenue (startDate, endDate):\n",
    "    revenueByMonth = {}\n",
    "    #Define the billing rate for each month\n",
    "    billingRate = {1:121, 2:121, 3:121, 4:121, 5:121, 6:121, 7:121, 8:121, 9:121, 10:121, 11:121, 12:121}\n",
    "    for month in range(1,13):\n",
    "        revenueByMonth[month] = getDaysForMonth(startDate, endDate, month) * billingRate[month]\n",
    "    return revenueByMonth\n",
    "\n",
    "def calcRevenue (df1, startDate, endDate):\n",
    "    #Define the billing rate for each month\n",
    "    billingRate = {1:121, 2:121, 3:121, 4:121, 5:121, 6:121, 7:121, 8:121, 9:121, 10:121, 11:121, 12:121}\n",
    "    for month in range(1,13):\n",
    "        df1[\"Rev_Mon_\"+ str(month)] = getDaysForMonth(startDate, endDate, month) * billingRate[month]\n",
    "    return df1\n",
    "    "
   ]
  },
  {
   "cell_type": "code",
   "execution_count": 13,
   "metadata": {
    "collapsed": false
   },
   "outputs": [
    {
     "data": {
      "text/plain": [
       "0"
      ]
     },
     "execution_count": 13,
     "metadata": {},
     "output_type": "execute_result"
    }
   ],
   "source": [
    "getDaysForMonth(date(2017,2,15),date(2017,2,25),3)"
   ]
  },
  {
   "cell_type": "code",
   "execution_count": 14,
   "metadata": {
    "collapsed": false
   },
   "outputs": [
    {
     "data": {
      "text/plain": [
       "18"
      ]
     },
     "execution_count": 14,
     "metadata": {},
     "output_type": "execute_result"
    }
   ],
   "source": [
    "getDaysForMonth(date(2017,2,15),date(2017,3,25),3)"
   ]
  },
  {
   "cell_type": "code",
   "execution_count": 15,
   "metadata": {
    "collapsed": false
   },
   "outputs": [
    {
     "data": {
      "text/plain": [
       "8"
      ]
     },
     "execution_count": 15,
     "metadata": {},
     "output_type": "execute_result"
    }
   ],
   "source": [
    "getDaysForMonth(date(2017,3,15),date(2017,3,25),3)"
   ]
  },
  {
   "cell_type": "code",
   "execution_count": 16,
   "metadata": {
    "collapsed": false
   },
   "outputs": [
    {
     "data": {
      "text/plain": [
       "12"
      ]
     },
     "execution_count": 16,
     "metadata": {},
     "output_type": "execute_result"
    }
   ],
   "source": [
    "getDaysForMonth(date(2017,3,15),date(2017,4,25),3)"
   ]
  },
  {
   "cell_type": "code",
   "execution_count": 17,
   "metadata": {
    "collapsed": false
   },
   "outputs": [
    {
     "data": {
      "text/plain": [
       "0"
      ]
     },
     "execution_count": 17,
     "metadata": {},
     "output_type": "execute_result"
    }
   ],
   "source": [
    "getDaysForMonth(date(2017,4,15),date(2017,4,25),3)"
   ]
  },
  {
   "cell_type": "code",
   "execution_count": 18,
   "metadata": {
    "collapsed": false
   },
   "outputs": [
    {
     "data": {
      "text/plain": [
       "{1: 0,\n",
       " 2: 1089,\n",
       " 3: 2662,\n",
       " 4: 2420,\n",
       " 5: 2662,\n",
       " 6: 2541,\n",
       " 7: 2420,\n",
       " 8: 2178,\n",
       " 9: 0,\n",
       " 10: 0,\n",
       " 11: 0,\n",
       " 12: 0}"
      ]
     },
     "execution_count": 18,
     "metadata": {},
     "output_type": "execute_result"
    }
   ],
   "source": [
    "getRevenue(date(2017,2,15),date(2017,8,25))"
   ]
  },
  {
   "cell_type": "code",
   "execution_count": 19,
   "metadata": {
    "collapsed": false
   },
   "outputs": [
    {
     "name": "stdout",
     "output_type": "stream",
     "text": [
      "Done\n"
     ]
    }
   ],
   "source": [
    "df2 = pd.DataFrame()\n",
    "for index, row in df.iterrows():\n",
    "    nceStart = row['NCE_Start_Date']\n",
    "    nceEnd = row['NCE_End_Date']\n",
    "    transitionStart = row['Transition_Start_Date']\n",
    "    transitionEnd = row['Transition_End_Date']\n",
    "    billingStart = row['Billing_Start_Date']\n",
    "    billingEnd = row['Billing_End_Date']\n",
    "    \n",
    "    if pd.isnull(billingEnd): #Very important technique of finding null -- pd.isnull(xxx)\n",
    "        billingEnd = datetime(2017,12,31,0,0,0)\n",
    "        \n",
    "    revSer = getRevenue(billingStart.date(), billingEnd.date())\n",
    "    df2 = df2.append([revSer],index) #Just a df2.append([..]) does not work. Has to be df2 = df2...\n",
    "\n",
    "df3 = df.join(df2)\n",
    "# Create a Pandas Excel writer using XlsxWriter as the engine.\n",
    "writer = pd.ExcelWriter('calculations.xlsx', engine='xlsxwriter')\n",
    "\n",
    "# Convert the dataframe to an XlsxWriter Excel object.\n",
    "df3.to_excel(writer, sheet_name='Revenue')\n",
    "\n",
    "# Close the Pandas Excel writer and output the Excel file.\n",
    "writer.save()\n",
    "print(\"Done\")"
   ]
  },
  {
   "cell_type": "code",
   "execution_count": 20,
   "metadata": {
    "collapsed": false
   },
   "outputs": [
    {
     "ename": "OutOfBoundsDatetime",
     "evalue": "Out of bounds nanosecond timestamp: 1-01-01 00:00:00",
     "output_type": "error",
     "traceback": [
      "\u001b[0;31m---------------------------------------------------------------------------\u001b[0m",
      "\u001b[0;31mOutOfBoundsDatetime\u001b[0m                       Traceback (most recent call last)",
      "\u001b[0;32m<ipython-input-20-72e737c2308c>\u001b[0m in \u001b[0;36m<module>\u001b[0;34m()\u001b[0m\n\u001b[1;32m      1\u001b[0m \u001b[0;31m#df[\"Jan_Rev\"] = getDaysForMonth(df.Billing_Start_Date.date(),df.Billing_End_Date.date(),1)\u001b[0m\u001b[0;34m\u001b[0m\u001b[0;34m\u001b[0m\u001b[0m\n\u001b[1;32m      2\u001b[0m \u001b[0mdf\u001b[0m\u001b[0;34m[\u001b[0m\u001b[0;34m'Billing_End_Date'\u001b[0m\u001b[0;34m]\u001b[0m\u001b[0;34m.\u001b[0m\u001b[0mfillna\u001b[0m\u001b[0;34m(\u001b[0m\u001b[0mdate\u001b[0m\u001b[0;34m(\u001b[0m\u001b[0;36m2017\u001b[0m\u001b[0;34m,\u001b[0m\u001b[0;36m12\u001b[0m\u001b[0;34m,\u001b[0m\u001b[0;36m31\u001b[0m\u001b[0;34m)\u001b[0m\u001b[0;34m,\u001b[0m\u001b[0minplace\u001b[0m\u001b[0;34m=\u001b[0m\u001b[0;32mTrue\u001b[0m\u001b[0;34m)\u001b[0m\u001b[0;34m\u001b[0m\u001b[0m\n\u001b[0;32m----> 3\u001b[0;31m \u001b[0mdf\u001b[0m\u001b[0;34m.\u001b[0m\u001b[0massign\u001b[0m\u001b[0;34m(\u001b[0m\u001b[0mJan_Billing_Days\u001b[0m \u001b[0;34m=\u001b[0m \u001b[0;32mlambda\u001b[0m \u001b[0mdf\u001b[0m\u001b[0;34m:\u001b[0m \u001b[0mgetDaysForMonth\u001b[0m\u001b[0;34m(\u001b[0m\u001b[0mdf\u001b[0m\u001b[0;34m.\u001b[0m\u001b[0mBilling_Start_Date\u001b[0m\u001b[0;34m,\u001b[0m\u001b[0mdf\u001b[0m\u001b[0;34m.\u001b[0m\u001b[0mBilling_End_Date\u001b[0m\u001b[0;34m,\u001b[0m\u001b[0;36m1\u001b[0m\u001b[0;34m)\u001b[0m\u001b[0;34m)\u001b[0m\u001b[0;34m\u001b[0m\u001b[0m\n\u001b[0m",
      "\u001b[0;32m/Users/surjitdas/anaconda3/lib/python3.6/site-packages/pandas/core/frame.py\u001b[0m in \u001b[0;36massign\u001b[0;34m(self, **kwargs)\u001b[0m\n\u001b[1;32m   2583\u001b[0m         \u001b[0mresults\u001b[0m \u001b[0;34m=\u001b[0m \u001b[0;34m{\u001b[0m\u001b[0;34m}\u001b[0m\u001b[0;34m\u001b[0m\u001b[0m\n\u001b[1;32m   2584\u001b[0m         \u001b[0;32mfor\u001b[0m \u001b[0mk\u001b[0m\u001b[0;34m,\u001b[0m \u001b[0mv\u001b[0m \u001b[0;32min\u001b[0m \u001b[0mkwargs\u001b[0m\u001b[0;34m.\u001b[0m\u001b[0mitems\u001b[0m\u001b[0;34m(\u001b[0m\u001b[0;34m)\u001b[0m\u001b[0;34m:\u001b[0m\u001b[0;34m\u001b[0m\u001b[0m\n\u001b[0;32m-> 2585\u001b[0;31m             \u001b[0mresults\u001b[0m\u001b[0;34m[\u001b[0m\u001b[0mk\u001b[0m\u001b[0;34m]\u001b[0m \u001b[0;34m=\u001b[0m \u001b[0mcom\u001b[0m\u001b[0;34m.\u001b[0m\u001b[0m_apply_if_callable\u001b[0m\u001b[0;34m(\u001b[0m\u001b[0mv\u001b[0m\u001b[0;34m,\u001b[0m \u001b[0mdata\u001b[0m\u001b[0;34m)\u001b[0m\u001b[0;34m\u001b[0m\u001b[0m\n\u001b[0m\u001b[1;32m   2586\u001b[0m \u001b[0;34m\u001b[0m\u001b[0m\n\u001b[1;32m   2587\u001b[0m         \u001b[0;31m# ... and then assign\u001b[0m\u001b[0;34m\u001b[0m\u001b[0;34m\u001b[0m\u001b[0m\n",
      "\u001b[0;32m/Users/surjitdas/anaconda3/lib/python3.6/site-packages/pandas/core/common.py\u001b[0m in \u001b[0;36m_apply_if_callable\u001b[0;34m(maybe_callable, obj, **kwargs)\u001b[0m\n\u001b[1;32m    451\u001b[0m     \"\"\"\n\u001b[1;32m    452\u001b[0m     \u001b[0;32mif\u001b[0m \u001b[0mcallable\u001b[0m\u001b[0;34m(\u001b[0m\u001b[0mmaybe_callable\u001b[0m\u001b[0;34m)\u001b[0m\u001b[0;34m:\u001b[0m\u001b[0;34m\u001b[0m\u001b[0m\n\u001b[0;32m--> 453\u001b[0;31m         \u001b[0;32mreturn\u001b[0m \u001b[0mmaybe_callable\u001b[0m\u001b[0;34m(\u001b[0m\u001b[0mobj\u001b[0m\u001b[0;34m,\u001b[0m \u001b[0;34m**\u001b[0m\u001b[0mkwargs\u001b[0m\u001b[0;34m)\u001b[0m\u001b[0;34m\u001b[0m\u001b[0m\n\u001b[0m\u001b[1;32m    454\u001b[0m     \u001b[0;32mreturn\u001b[0m \u001b[0mmaybe_callable\u001b[0m\u001b[0;34m\u001b[0m\u001b[0m\n\u001b[1;32m    455\u001b[0m \u001b[0;34m\u001b[0m\u001b[0m\n",
      "\u001b[0;32m<ipython-input-20-72e737c2308c>\u001b[0m in \u001b[0;36m<lambda>\u001b[0;34m(df)\u001b[0m\n\u001b[1;32m      1\u001b[0m \u001b[0;31m#df[\"Jan_Rev\"] = getDaysForMonth(df.Billing_Start_Date.date(),df.Billing_End_Date.date(),1)\u001b[0m\u001b[0;34m\u001b[0m\u001b[0;34m\u001b[0m\u001b[0m\n\u001b[1;32m      2\u001b[0m \u001b[0mdf\u001b[0m\u001b[0;34m[\u001b[0m\u001b[0;34m'Billing_End_Date'\u001b[0m\u001b[0;34m]\u001b[0m\u001b[0;34m.\u001b[0m\u001b[0mfillna\u001b[0m\u001b[0;34m(\u001b[0m\u001b[0mdate\u001b[0m\u001b[0;34m(\u001b[0m\u001b[0;36m2017\u001b[0m\u001b[0;34m,\u001b[0m\u001b[0;36m12\u001b[0m\u001b[0;34m,\u001b[0m\u001b[0;36m31\u001b[0m\u001b[0;34m)\u001b[0m\u001b[0;34m,\u001b[0m\u001b[0minplace\u001b[0m\u001b[0;34m=\u001b[0m\u001b[0;32mTrue\u001b[0m\u001b[0;34m)\u001b[0m\u001b[0;34m\u001b[0m\u001b[0m\n\u001b[0;32m----> 3\u001b[0;31m \u001b[0mdf\u001b[0m\u001b[0;34m.\u001b[0m\u001b[0massign\u001b[0m\u001b[0;34m(\u001b[0m\u001b[0mJan_Billing_Days\u001b[0m \u001b[0;34m=\u001b[0m \u001b[0;32mlambda\u001b[0m \u001b[0mdf\u001b[0m\u001b[0;34m:\u001b[0m \u001b[0mgetDaysForMonth\u001b[0m\u001b[0;34m(\u001b[0m\u001b[0mdf\u001b[0m\u001b[0;34m.\u001b[0m\u001b[0mBilling_Start_Date\u001b[0m\u001b[0;34m,\u001b[0m\u001b[0mdf\u001b[0m\u001b[0;34m.\u001b[0m\u001b[0mBilling_End_Date\u001b[0m\u001b[0;34m,\u001b[0m\u001b[0;36m1\u001b[0m\u001b[0;34m)\u001b[0m\u001b[0;34m)\u001b[0m\u001b[0;34m\u001b[0m\u001b[0m\n\u001b[0m",
      "\u001b[0;32m<ipython-input-12-552258178be9>\u001b[0m in \u001b[0;36mgetDaysForMonth\u001b[0;34m(startDate, endDate, forMonth)\u001b[0m\n\u001b[1;32m      5\u001b[0m     \u001b[0;31m#if pd.isnull(startDate):\u001b[0m\u001b[0;34m\u001b[0m\u001b[0;34m\u001b[0m\u001b[0m\n\u001b[1;32m      6\u001b[0m     \u001b[0;31m#    return 0\u001b[0m\u001b[0;34m\u001b[0m\u001b[0;34m\u001b[0m\u001b[0m\n\u001b[0;32m----> 7\u001b[0;31m     \u001b[0;32mif\u001b[0m \u001b[0mstartDate\u001b[0m \u001b[0;34m==\u001b[0m \u001b[0mdate\u001b[0m\u001b[0;34m.\u001b[0m\u001b[0mmin\u001b[0m\u001b[0;34m:\u001b[0m\u001b[0;34m\u001b[0m\u001b[0m\n\u001b[0m\u001b[1;32m      8\u001b[0m         \u001b[0;32mreturn\u001b[0m \u001b[0;36m0\u001b[0m\u001b[0;34m\u001b[0m\u001b[0m\n\u001b[1;32m      9\u001b[0m     \u001b[0;32melif\u001b[0m \u001b[0mstartDate\u001b[0m \u001b[0;34m>\u001b[0m \u001b[0mlast_date\u001b[0m\u001b[0;34m[\u001b[0m\u001b[0mforMonth\u001b[0m\u001b[0;34m]\u001b[0m\u001b[0;34m:\u001b[0m\u001b[0;34m\u001b[0m\u001b[0m\n",
      "\u001b[0;32m/Users/surjitdas/anaconda3/lib/python3.6/site-packages/pandas/core/ops.py\u001b[0m in \u001b[0;36mwrapper\u001b[0;34m(self, other, axis)\u001b[0m\n\u001b[1;32m    853\u001b[0m \u001b[0;34m\u001b[0m\u001b[0m\n\u001b[1;32m    854\u001b[0m             \u001b[0;32mwith\u001b[0m \u001b[0mnp\u001b[0m\u001b[0;34m.\u001b[0m\u001b[0merrstate\u001b[0m\u001b[0;34m(\u001b[0m\u001b[0mall\u001b[0m\u001b[0;34m=\u001b[0m\u001b[0;34m'ignore'\u001b[0m\u001b[0;34m)\u001b[0m\u001b[0;34m:\u001b[0m\u001b[0;34m\u001b[0m\u001b[0m\n\u001b[0;32m--> 855\u001b[0;31m                 \u001b[0mres\u001b[0m \u001b[0;34m=\u001b[0m \u001b[0mna_op\u001b[0m\u001b[0;34m(\u001b[0m\u001b[0mvalues\u001b[0m\u001b[0;34m,\u001b[0m \u001b[0mother\u001b[0m\u001b[0;34m)\u001b[0m\u001b[0;34m\u001b[0m\u001b[0m\n\u001b[0m\u001b[1;32m    856\u001b[0m             \u001b[0;32mif\u001b[0m \u001b[0misscalar\u001b[0m\u001b[0;34m(\u001b[0m\u001b[0mres\u001b[0m\u001b[0;34m)\u001b[0m\u001b[0;34m:\u001b[0m\u001b[0;34m\u001b[0m\u001b[0m\n\u001b[1;32m    857\u001b[0m                 raise TypeError('Could not compare %s type with Series' %\n",
      "\u001b[0;32m/Users/surjitdas/anaconda3/lib/python3.6/site-packages/pandas/core/ops.py\u001b[0m in \u001b[0;36mna_op\u001b[0;34m(x, y)\u001b[0m\n\u001b[1;32m    782\u001b[0m                 \u001b[0;32mif\u001b[0m \u001b[0misscalar\u001b[0m\u001b[0;34m(\u001b[0m\u001b[0my\u001b[0m\u001b[0;34m)\u001b[0m\u001b[0;34m:\u001b[0m\u001b[0;34m\u001b[0m\u001b[0m\n\u001b[1;32m    783\u001b[0m                     \u001b[0mmask\u001b[0m \u001b[0;34m=\u001b[0m \u001b[0misnull\u001b[0m\u001b[0;34m(\u001b[0m\u001b[0mx\u001b[0m\u001b[0;34m)\u001b[0m\u001b[0;34m\u001b[0m\u001b[0m\n\u001b[0;32m--> 784\u001b[0;31m                     \u001b[0my\u001b[0m \u001b[0;34m=\u001b[0m \u001b[0m_index\u001b[0m\u001b[0;34m.\u001b[0m\u001b[0mconvert_scalar\u001b[0m\u001b[0;34m(\u001b[0m\u001b[0mx\u001b[0m\u001b[0;34m,\u001b[0m \u001b[0m_values_from_object\u001b[0m\u001b[0;34m(\u001b[0m\u001b[0my\u001b[0m\u001b[0;34m)\u001b[0m\u001b[0;34m)\u001b[0m\u001b[0;34m\u001b[0m\u001b[0m\n\u001b[0m\u001b[1;32m    785\u001b[0m                 \u001b[0;32melse\u001b[0m\u001b[0;34m:\u001b[0m\u001b[0;34m\u001b[0m\u001b[0m\n\u001b[1;32m    786\u001b[0m                     \u001b[0mmask\u001b[0m \u001b[0;34m=\u001b[0m \u001b[0misnull\u001b[0m\u001b[0;34m(\u001b[0m\u001b[0mx\u001b[0m\u001b[0;34m)\u001b[0m \u001b[0;34m|\u001b[0m \u001b[0misnull\u001b[0m\u001b[0;34m(\u001b[0m\u001b[0my\u001b[0m\u001b[0;34m)\u001b[0m\u001b[0;34m\u001b[0m\u001b[0m\n",
      "\u001b[0;32mpandas/index.pyx\u001b[0m in \u001b[0;36mpandas.index.convert_scalar (pandas/index.c:13483)\u001b[0;34m()\u001b[0m\n",
      "\u001b[0;32mpandas/index.pyx\u001b[0m in \u001b[0;36mpandas.index.convert_scalar (pandas/index.c:13060)\u001b[0;34m()\u001b[0m\n",
      "\u001b[0;32mpandas/tslib.pyx\u001b[0m in \u001b[0;36mpandas.tslib.Timestamp.__new__ (pandas/tslib.c:10447)\u001b[0;34m()\u001b[0m\n",
      "\u001b[0;32mpandas/tslib.pyx\u001b[0m in \u001b[0;36mpandas.tslib.convert_to_tsobject (pandas/tslib.c:28822)\u001b[0;34m()\u001b[0m\n",
      "\u001b[0;32mpandas/tslib.pyx\u001b[0m in \u001b[0;36mpandas.tslib.convert_to_tsobject (pandas/tslib.c:28700)\u001b[0;34m()\u001b[0m\n",
      "\u001b[0;32mpandas/tslib.pyx\u001b[0m in \u001b[0;36mpandas.tslib._check_dts_bounds (pandas/tslib.c:32835)\u001b[0;34m()\u001b[0m\n",
      "\u001b[0;31mOutOfBoundsDatetime\u001b[0m: Out of bounds nanosecond timestamp: 1-01-01 00:00:00"
     ]
    }
   ],
   "source": [
    "#df[\"Jan_Rev\"] = getDaysForMonth(df.Billing_Start_Date.date(),df.Billing_End_Date.date(),1)\n",
    "df['Billing_End_Date'].fillna(date(2017,12,31),inplace=True)\n",
    "df.assign(Jan_Billing_Days = lambda df: getDaysForMonth(df.Billing_Start_Date,df.Billing_End_Date,1))"
   ]
  },
  {
   "cell_type": "code",
   "execution_count": null,
   "metadata": {
    "collapsed": false
   },
   "outputs": [],
   "source": [
    "np.random.seed(0)\n",
    "\n",
    "def compute_reciprocals(values):\n",
    "    output = np.empty(len(values))\n",
    "    for i in range(len(values)):\n",
    "        output[i] = 1.0/values[i]\n",
    "    return output\n",
    "\n",
    "values = np.random.randint(1,10,size=5)\n",
    "compute_reciprocals(values)"
   ]
  },
  {
   "cell_type": "code",
   "execution_count": null,
   "metadata": {
    "collapsed": false
   },
   "outputs": [],
   "source": [
    "big_array = np.random.randint(1,100,size = 1000000)\n",
    "%timeit compute_reciprocals(big_array)"
   ]
  },
  {
   "cell_type": "code",
   "execution_count": null,
   "metadata": {
    "collapsed": false
   },
   "outputs": [],
   "source": [
    "%timeit (1.0/big_array)"
   ]
  },
  {
   "cell_type": "code",
   "execution_count": null,
   "metadata": {
    "collapsed": true
   },
   "outputs": [],
   "source": []
  }
 ],
 "metadata": {
  "kernelspec": {
   "display_name": "Python 3",
   "language": "python",
   "name": "python3"
  },
  "language_info": {
   "codemirror_mode": {
    "name": "ipython",
    "version": 3
   },
   "file_extension": ".py",
   "mimetype": "text/x-python",
   "name": "python",
   "nbconvert_exporter": "python",
   "pygments_lexer": "ipython3",
   "version": "3.6.0"
  }
 },
 "nbformat": 4,
 "nbformat_minor": 2
}
