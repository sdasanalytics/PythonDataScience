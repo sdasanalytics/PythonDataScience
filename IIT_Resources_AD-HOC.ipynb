{
 "cells": [
  {
   "cell_type": "code",
   "execution_count": 1,
   "metadata": {
    "collapsed": false
   },
   "outputs": [],
   "source": [
    "import pandas as pd\n",
    "import numpy as np\n",
    "from datetime import datetime, date\n",
    "df = pd.read_excel('/Users/surjitdas/Box Sync/Barclays Data Tower/Governance/Operations/Resource Master - IIT.xlsx','Base data')"
   ]
  },
  {
   "cell_type": "code",
   "execution_count": 2,
   "metadata": {
    "collapsed": false
   },
   "outputs": [
    {
     "data": {
      "text/plain": [
       "Index(['Contract', 'WP_#', 'Emp_Code', 'First_Name', 'Last_Name',\n",
       "       'Emp_Notes_ID', 'Band', 'Band_Wt', 'Status', 'Demand_Confidence',\n",
       "       'Supply_Status', 'Demand_Received', 'Requested_Start_date', 'Billable',\n",
       "       'NCE_Start_Date', 'NCE_End_Date', 'Transition_Start_Date',\n",
       "       'Transition_End_Date', 'Billing_Start_Date', 'Billing_End_Date',\n",
       "       'Billing_Month', 'Billing_Year', 'Billing_End_Month', 'Billing_End_Yr',\n",
       "       'Unbilled_Days', 'Scoped_vs_Non_Scoped', 'SR_#', 'SR_Start_Date',\n",
       "       'SR_End_Date', 'BRID', 'BRID_Date', 'Line_Manager', 'IBM POC',\n",
       "       'Location_Category', 'Skills', 'JRSS', 'Premium', 'PSL_Role',\n",
       "       'Years_of_Experience', 'Role_Category', 'BCP Critical', 'Comments',\n",
       "       'Inactive_Reason', 'City'],\n",
       "      dtype='object')"
      ]
     },
     "execution_count": 2,
     "metadata": {},
     "output_type": "execute_result"
    }
   ],
   "source": [
    "df.columns"
   ]
  },
  {
   "cell_type": "code",
   "execution_count": 3,
   "metadata": {
    "collapsed": false
   },
   "outputs": [
    {
     "data": {
      "text/plain": [
       "(539, 44)"
      ]
     },
     "execution_count": 3,
     "metadata": {},
     "output_type": "execute_result"
    }
   ],
   "source": [
    "df.shape"
   ]
  },
  {
   "cell_type": "markdown",
   "metadata": {},
   "source": [
    "# Reporing queries:"
   ]
  },
  {
   "cell_type": "code",
   "execution_count": 17,
   "metadata": {
    "collapsed": false
   },
   "outputs": [
    {
     "name": "stdout",
     "output_type": "stream",
     "text": [
      "Status    Scoped_vs_Non_Scoped  Line_Manager                     \n",
      "Active    Non-scoped            Ajay Shelke                           1\n",
      "                                Amit Sonar                            1\n",
      "                                Ankit Tharwani                        6\n",
      "                                Anusha Anandraj                       2\n",
      "                                Binod Maveli                          1\n",
      "                                Chandrasekar Chandramohan             8\n",
      "                                Jyoti Bharadwaj                      15\n",
      "                                Karthik Ranganathan                   1\n",
      "                                Koti Reddy                            1\n",
      "                                Krishna Saboo                         1\n",
      "                                Madhumita Deo                         1\n",
      "                                Mahesh Dekhane                        9\n",
      "                                Manish Doshi                          3\n",
      "                                Murali                               11\n",
      "                                Nandakumar Heble                      2\n",
      "                                Nitin Gholkar                         3\n",
      "                                Paresh Ranwadkar                      1\n",
      "                                Pawan Thakare                        13\n",
      "                                Ravi Pratap                           2\n",
      "                                Reena Patil                           2\n",
      "                                Sangeeta Behara                      12\n",
      "                                Shailesh Jain                         3\n",
      "                                Srinivasa Nunna                      10\n",
      "                                Tushar Kasar                         24\n",
      "                                Vandhana Srinivas                     1\n",
      "                                Vikas Madaan                          4\n",
      "                                Virendra Chauhan                      2\n",
      "          Scoped                Abhijit Joshi                         2\n",
      "                                Ajay Shelke                           1\n",
      "                                Ankit Tharwani                       21\n",
      "                                                                     ..\n",
      "Forecast  Scoped                Srinivasa Nunna                       1\n",
      "                                Syam Chintapenta                     21\n",
      "Inactive  Non-scoped            Ajay Shelke                           1\n",
      "                                Ankit Tharwani                        9\n",
      "                                Carmen Ingram                         1\n",
      "                                Chandrasekar Chandramohan             1\n",
      "                                Jyoti Bharadwaj                       2\n",
      "                                Karthik Ranganathan                   1\n",
      "                                Murali                                2\n",
      "                                Nandakumar Heble                      4\n",
      "                                Parag Datta                           1\n",
      "                                Paresh Ranwadkar                      1\n",
      "                                Pawan Thakare                         4\n",
      "                                Pratap Sinha                          2\n",
      "                                Sangeeta Behara                       4\n",
      "                                Sangeetha Behra\\nSyam Chintapenta     1\n",
      "                                Srinivasa Nunna                       5\n",
      "                                Syam Chintapenta                      1\n",
      "                                Tushar Kasar                          2\n",
      "                                Virendra Chauhan                      1\n",
      "          Scoped                Ankit Tharwani                        2\n",
      "                                Avinash Malpani                       1\n",
      "                                Bharat Iyengar                        1\n",
      "                                Binod Maveli                          4\n",
      "                                Emtiyaz Bhimani                       4\n",
      "                                Koti Reddy                            1\n",
      "                                Mahesh Dekhane                        5\n",
      "                                Pavan Shidhaye                        1\n",
      "                                Ravi Pratap                           1\n",
      "                                Syam Chintapenta                      3\n",
      "Name: Emp_Notes_ID, dtype: int64\n"
     ]
    }
   ],
   "source": [
    "#1. Syam T&M Headcount\n",
    "print(df.groupby([\"Status\",\"Scoped_vs_Non_Scoped\",\"Line_Manager\"])['Emp_Notes_ID'].count())"
   ]
  },
  {
   "cell_type": "code",
   "execution_count": null,
   "metadata": {
    "collapsed": true
   },
   "outputs": [],
   "source": [
    "df(\"Line_Manager\")"
   ]
  },
  {
   "cell_type": "code",
   "execution_count": null,
   "metadata": {
    "collapsed": false,
    "scrolled": true
   },
   "outputs": [],
   "source": [
    "#3. How many (and which) Active Emp Notes ID do not have /IBM (proper notes id)\n",
    "df[(~df['Emp_Notes_ID'].str.endswith(\"IBM\")) & (df['Status'] == 'Active')]"
   ]
  },
  {
   "cell_type": "code",
   "execution_count": null,
   "metadata": {
    "collapsed": false
   },
   "outputs": [],
   "source": [
    "#4. How many (and which) Active Emp Codes are missing?\n",
    "df[(df['Emp_Code'].isnull()) & (df['Status'] == 'Active')]"
   ]
  },
  {
   "cell_type": "code",
   "execution_count": null,
   "metadata": {
    "collapsed": false
   },
   "outputs": [],
   "source": [
    "#5. How many (and which) Bands are missing?\n",
    "df[(df['Band'].isnull())]"
   ]
  },
  {
   "cell_type": "code",
   "execution_count": null,
   "metadata": {
    "collapsed": false
   },
   "outputs": [],
   "source": [
    "#6. How many (and which) Line Managers are missing?\n",
    "df[(df['Line_Manager'].isnull())]"
   ]
  },
  {
   "cell_type": "code",
   "execution_count": null,
   "metadata": {
    "collapsed": false,
    "scrolled": true
   },
   "outputs": [],
   "source": [
    "#7. How many (and which) JRSS are missing?\n",
    "df[(df['JRSS'].isnull())]"
   ]
  },
  {
   "cell_type": "code",
   "execution_count": null,
   "metadata": {
    "collapsed": false
   },
   "outputs": [],
   "source": [
    "#8. How many (and which) Active Years of Experience are missing?\n",
    "df[(df['Years_of_Experience'].isnull()) & (df['Status'] == 'Active')]"
   ]
  },
  {
   "cell_type": "code",
   "execution_count": null,
   "metadata": {
    "collapsed": false
   },
   "outputs": [],
   "source": [
    "#9. How many (and which) Active PSL Role are missing?\n",
    "df[(df['PSL_Role'].isnull()) & (df['Status'] == 'Active')]"
   ]
  },
  {
   "cell_type": "code",
   "execution_count": null,
   "metadata": {
    "collapsed": false
   },
   "outputs": [],
   "source": [
    "#10. How many (and which) Active Role Category are missing?\n",
    "df[(df['Role_Category'].isnull()) & (df['Status'] == 'Active')]"
   ]
  },
  {
   "cell_type": "code",
   "execution_count": null,
   "metadata": {
    "collapsed": false
   },
   "outputs": [],
   "source": [
    "#11. How many (and which) Active City are missing?\n",
    "df[(df['City'].isnull()) & (df['Status'] == 'Active')]"
   ]
  },
  {
   "cell_type": "code",
   "execution_count": null,
   "metadata": {
    "collapsed": false
   },
   "outputs": [],
   "source": [
    "#12. Which Inactive records have Inactive_Reason missing?\n",
    "df[(df['Status'] == 'Inactive') & df.Inactive_Reason.isnull()]"
   ]
  },
  {
   "cell_type": "markdown",
   "metadata": {},
   "source": [
    "# Data Updation issues:"
   ]
  },
  {
   "cell_type": "code",
   "execution_count": null,
   "metadata": {
    "collapsed": false,
    "scrolled": false
   },
   "outputs": [],
   "source": [
    "from datetime import datetime,timedelta\n",
    "now = datetime.now()\n",
    "\n",
    "#1. Which Active resources have Billing End Date in the next 30 days?\n",
    "df[(~df['Billing_End_Date'].isnull()) & (df['Billing_End_Date'] < now + timedelta(days=30))& (df['Status'] == 'Active')]"
   ]
  },
  {
   "cell_type": "code",
   "execution_count": null,
   "metadata": {
    "collapsed": false,
    "scrolled": true
   },
   "outputs": [],
   "source": [
    "#2. Which Active resources’ Billing End Date is in the past?\n",
    "df[(~df['Billing_End_Date'].isnull()) & (df['Billing_End_Date'] < now)& (df['Status'] == 'Active')]"
   ]
  },
  {
   "cell_type": "code",
   "execution_count": null,
   "metadata": {
    "collapsed": false
   },
   "outputs": [],
   "source": [
    "#3. Which Forecast resources’ NCE Start Date is in the past?\n",
    "df[(~df['NCE_Start_Date'].isnull()) & (df['NCE_Start_Date'] < now)& (df['Status'] == 'Forecast')]"
   ]
  },
  {
   "cell_type": "code",
   "execution_count": null,
   "metadata": {
    "collapsed": false
   },
   "outputs": [],
   "source": [
    "#4. Which Forecast resources’ Transition Start Date is in the past?\n",
    "df[(~df['Transition_Start_Date'].isnull()) & (df['Transition_Start_Date'] < now)& (df['Status'] == 'Forecast')]"
   ]
  },
  {
   "cell_type": "code",
   "execution_count": null,
   "metadata": {
    "collapsed": false
   },
   "outputs": [],
   "source": [
    "#5. Which Forecast resources’ Billing Start Date is in the past?\n",
    "df[(~df['Billing_Start_Date'].isnull()) & (df['Billing_Start_Date'] < now)& (df['Status'] == 'Forecast')]"
   ]
  },
  {
   "cell_type": "code",
   "execution_count": null,
   "metadata": {
    "collapsed": false
   },
   "outputs": [],
   "source": [
    "#6. Which Inactive resources’ Billing End Date is in the future or is missing?\n",
    "df[((df['Billing_End_Date'].isnull()) | (df['Billing_End_Date'] > now)) & (df['Status'] == 'Inactive')]"
   ]
  },
  {
   "cell_type": "markdown",
   "metadata": {},
   "source": [
    "## Key insights:"
   ]
  },
  {
   "cell_type": "code",
   "execution_count": null,
   "metadata": {
    "collapsed": false
   },
   "outputs": [],
   "source": [
    "#1. List the key Ab Initio Leads (7B & above)\n",
    "df[(df.Band.isin(['7B',8,9])) & (df['Status'] == 'Active')  & (df['Skills'] == 'ETL Ab Initio')]"
   ]
  },
  {
   "cell_type": "code",
   "execution_count": null,
   "metadata": {
    "collapsed": false
   },
   "outputs": [],
   "source": [
    "#2. List all other leads (7B & above)\n",
    "df[(df.Band.isin(['7B',8,9])) & (df['Status'] == 'Active')  & (df['Skills'] != 'ETL Ab Initio')]"
   ]
  },
  {
   "cell_type": "code",
   "execution_count": null,
   "metadata": {
    "collapsed": false,
    "scrolled": false
   },
   "outputs": [],
   "source": [
    "#3. List potential Ab Initio Leads (7A)\n",
    "df[(df.Band=='7A') & (df['Status'] == 'Active')  & (df['Skills'] == 'ETL Ab Initio')]"
   ]
  },
  {
   "cell_type": "code",
   "execution_count": null,
   "metadata": {
    "collapsed": false
   },
   "outputs": [],
   "source": [
    "#4. List potential other Leads (7A)\n",
    "df[(df.Band=='7A') & (df['Status'] == 'Active')  & (df['Skills'] != 'ETL Ab Initio')]"
   ]
  },
  {
   "cell_type": "code",
   "execution_count": null,
   "metadata": {
    "collapsed": false
   },
   "outputs": [],
   "source": [
    "#5. What is the Premium % (Active and with Forecast)\n",
    "#Create a pandas.core.groupby.DataFrameGroupBy object based on the Grouping required\n",
    "#The following provides a grouping on ([\"Status\",\"Premium\"]) columns\n",
    "#We can further filter the return columns in the same statement by adding [[\"Emp_Notes_ID\",\"Band\"]]\n",
    "#gb = df.groupby([\"Status\",\"Premium\"])[[\"Emp_Notes_ID\",\"Band_Wt\"]]\n",
    "\n",
    "#But we will break this up into multiple steps for easy calculations\n",
    "gb = df.groupby([\"Status\",\"Premium\"])\n",
    "Active_Premium = gb.get_group(('Active','Premium'))[\"Emp_Notes_ID\"].count()\n",
    "Active_PremiumPlus = 0 #gb.get_group(('Active','Premium Plus'))[\"Emp_Notes_ID\"].count()\n",
    "Active_Standard = gb.get_group(('Active','Standard'))[\"Emp_Notes_ID\"].count()\n",
    "Forecast_Premium = gb.get_group(('Forecast','Premium'))[\"Emp_Notes_ID\"].count()\n",
    "Forecast_Standard = gb.get_group(('Forecast','Standard'))[\"Emp_Notes_ID\"].count()\n",
    "\n",
    "Active_Premium_Pct = (Active_Premium + Active_PremiumPlus)*100 / (Active_Premium + Active_PremiumPlus + Active_Standard)\n",
    "Active_plus_Forecast_Premium_Pct = (Active_Premium + Active_PremiumPlus + Forecast_Premium)*100 / (Active_Premium + Active_PremiumPlus + Active_Standard + Forecast_Premium + Forecast_Standard)\n",
    "\n",
    "Active_Premium_Pct, Active_plus_Forecast_Premium_Pct"
   ]
  },
  {
   "cell_type": "code",
   "execution_count": null,
   "metadata": {
    "collapsed": false
   },
   "outputs": [],
   "source": [
    "#6. What is the Band mix (Active and with Forecast)\n",
    "gb = df.groupby([\"Status\"])\n",
    "Active_Band_Wt = gb.get_group(('Active'))['Band_Wt'].mean()\n",
    "Forecast_Band_Wt = gb.get_group(('Forecast')).Band_Wt.mean()\n",
    "Active_plus_Forecast_Band_Wt = (gb.get_group(('Active')).Band_Wt.sum() + gb.get_group(('Forecast')).Band_Wt.sum()) / (gb.get_group(('Active')).Band_Wt.count() + gb.get_group(('Forecast')).Band_Wt.count())\n",
    "Active_Band_Wt, Active_plus_Forecast_Band_Wt"
   ]
  },
  {
   "cell_type": "code",
   "execution_count": null,
   "metadata": {
    "collapsed": false
   },
   "outputs": [],
   "source": [
    "#7. What is the skills distribution?\n",
    "df.groupby([\"Status\",\"Scoped_vs_Non_Scoped\",\"Skills\"])['Emp_Notes_ID'].count()"
   ]
  },
  {
   "cell_type": "code",
   "execution_count": null,
   "metadata": {
    "collapsed": false
   },
   "outputs": [],
   "source": [
    "#Revenue Calculations\n",
    "thisYr = 2017\n",
    "first_date = pd.Series({1:date(thisYr,1,1), 2:date(thisYr,2,1), 3:date(thisYr,3,1), 4:date(thisYr,4,1), 5:date(thisYr,5,1), 6:date(thisYr,6,1), 7:date(thisYr,7,1), 8:date(thisYr,8,1), 9:date(thisYr,9,1), 10:date(thisYr,10,1), 11:date(thisYr,11,1), 12:date(thisYr,12,1)})\n",
    "last_date = pd.Series({1:date(thisYr,1,31), 2:date(thisYr,2,28), 3:date(thisYr,3,31), 4:date(thisYr,4,30), 5:date(thisYr,5,31), 6:date(thisYr,6,30), 7:date(thisYr,7,31), 8:date(thisYr,8,31), 9:date(thisYr,9,30), 10:date(thisYr,10,31), 11:date(thisYr,11,30), 12:date(thisYr,12,31)})\n",
    "local_billing_rate = {1:990, 2:990, 3:990, 4:990, 5:990, 6:990, 7:990, 8:990, 9:990, 10:990, 11:990, 12:990}\n",
    "landed_billing_rate = {1:455, 2:455, 3:455, 4:455, 5:455, 6:455, 7:455, 8:455, 9:455, 10:455, 11:455, 12:455}\n",
    "offshore_billing_rate = {1:121, 2:121, 3:121, 4:121, 5:121, 6:121, 7:121, 8:121, 9:121, 10:121, 11:121, 12:121}\n",
    "billingRate = {\"Local\":local_billing_rate, \"Landed\":landed_billing_rate, \"Offshore\":offshore_billing_rate}\n",
    "assumed_ute = 0.9\n",
    "\n",
    "def getDaysForMonth(startDate, endDate, forMonth):\n",
    "\n",
    "    if startDate == date.min:\n",
    "        return 0\n",
    "    elif startDate > last_date[forMonth]:\n",
    "        return 0\n",
    "    elif startDate < first_date[forMonth]:\n",
    "        startDate = first_date[forMonth]\n",
    "    \n",
    "    if endDate == date.max:\n",
    "        endDate = last_date[forMonth]\n",
    "    elif endDate < first_date[forMonth]:\n",
    "        return 0\n",
    "    elif endDate > last_date[forMonth]:\n",
    "        endDate = last_date[forMonth]    \n",
    "    \n",
    "    delta = np.busday_count(startDate, endDate)\n",
    "    return delta * assumed_ute\n",
    "\n",
    "def getRevenue (startDate, endDate, locationCategory):\n",
    "    revenueByMonth = {}\n",
    "    for month in range(1,13):\n",
    "        revenueByMonth[month] = getDaysForMonth(startDate, endDate, month) * billingRate[locationCategory][month]\n",
    "    return revenueByMonth\n",
    "\n",
    "df2 = pd.DataFrame()\n",
    "for index, row in df.iterrows():\n",
    "    nceStart = row['NCE_Start_Date']\n",
    "    nceEnd = row['NCE_End_Date']\n",
    "    transitionStart = row['Transition_Start_Date']\n",
    "    transitionEnd = row['Transition_End_Date']\n",
    "    billingStart = row['Billing_Start_Date']\n",
    "    billingEnd = row['Billing_End_Date']\n",
    "    locationCategory = row['Location_Category']\n",
    "    \n",
    "    if pd.isnull(billingEnd): #Very important technique of finding null -- pd.isnull(xxx)\n",
    "        billingEnd = datetime(thisYr,12,31,0,0,0)\n",
    "        \n",
    "    revSer = getRevenue(billingStart.date(), billingEnd.date(),locationCategory)\n",
    "    df2 = df2.append([revSer],index) #Just a df2.append([..]) does not work. Has to be df2 = df2...\n",
    "\n",
    "df3 = df.join(df2)\n",
    "# Create a Pandas Excel writer using XlsxWriter as the engine.\n",
    "writer = pd.ExcelWriter('/Users/surjitdas/Box Sync/Barclays Data Tower/Governance/Operations/calculations.xlsx', engine='xlsxwriter')\n",
    "\n",
    "# Convert the dataframe to an XlsxWriter Excel object.\n",
    "df3.to_excel(writer, sheet_name='Revenue')\n",
    "\n",
    "# Close the Pandas Excel writer and output the Excel file.\n",
    "writer.save()\n",
    "print(\"Done\")"
   ]
  },
  {
   "cell_type": "code",
   "execution_count": null,
   "metadata": {
    "collapsed": false
   },
   "outputs": [],
   "source": [
    "df[(df['Status'] == 'Forecast')  & (df.Confidence=='Identified') ]"
   ]
  }
 ],
 "metadata": {
  "kernelspec": {
   "display_name": "Python 3",
   "language": "python",
   "name": "python3"
  },
  "language_info": {
   "codemirror_mode": {
    "name": "ipython",
    "version": 3
   },
   "file_extension": ".py",
   "mimetype": "text/x-python",
   "name": "python",
   "nbconvert_exporter": "python",
   "pygments_lexer": "ipython3",
   "version": "3.6.0"
  }
 },
 "nbformat": 4,
 "nbformat_minor": 2
}
